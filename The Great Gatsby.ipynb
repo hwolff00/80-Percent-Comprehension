{
 "cells": [
  {
   "cell_type": "markdown",
   "metadata": {},
   "source": [
    "# *The Great Gatsby* by F. Scott Fitzgerald"
   ]
  },
  {
   "cell_type": "code",
   "execution_count": 1,
   "metadata": {},
   "outputs": [
    {
     "name": "stdout",
     "output_type": "stream",
     "text": [
      "The top five words in The Great Gatsby:\n"
     ]
    },
    {
     "data": {
      "text/html": [
       "<div>\n",
       "<style scoped>\n",
       "    .dataframe tbody tr th:only-of-type {\n",
       "        vertical-align: middle;\n",
       "    }\n",
       "\n",
       "    .dataframe tbody tr th {\n",
       "        vertical-align: top;\n",
       "    }\n",
       "\n",
       "    .dataframe thead th {\n",
       "        text-align: right;\n",
       "    }\n",
       "</style>\n",
       "<table border=\"1\" class=\"dataframe\">\n",
       "  <thead>\n",
       "    <tr style=\"text-align: right;\">\n",
       "      <th></th>\n",
       "      <th>Word</th>\n",
       "      <th>Count</th>\n",
       "    </tr>\n",
       "  </thead>\n",
       "  <tbody>\n",
       "    <tr>\n",
       "      <th>1</th>\n",
       "      <td>The</td>\n",
       "      <td>2400</td>\n",
       "    </tr>\n",
       "    <tr>\n",
       "      <th>2</th>\n",
       "      <td>And</td>\n",
       "      <td>1566</td>\n",
       "    </tr>\n",
       "    <tr>\n",
       "      <th>3</th>\n",
       "      <td>A</td>\n",
       "      <td>1411</td>\n",
       "    </tr>\n",
       "    <tr>\n",
       "      <th>4</th>\n",
       "      <td>I</td>\n",
       "      <td>1193</td>\n",
       "    </tr>\n",
       "    <tr>\n",
       "      <th>5</th>\n",
       "      <td>To</td>\n",
       "      <td>1130</td>\n",
       "    </tr>\n",
       "  </tbody>\n",
       "</table>\n",
       "</div>"
      ],
      "text/plain": [
       "  Word  Count\n",
       "1  The   2400\n",
       "2  And   1566\n",
       "3    A   1411\n",
       "4    I   1193\n",
       "5   To   1130"
      ]
     },
     "execution_count": 1,
     "metadata": {},
     "output_type": "execute_result"
    }
   ],
   "source": [
    "import pandas as pd\n",
    "import numpy as np\n",
    "\n",
    "title = \"The Great Gatsby\"\n",
    "unfiltered = \"Gatsby.csv\"\n",
    "filtered = \"Gatsby_filtered.csv\"\n",
    "\n",
    "top_unfiltered = pd.read_csv(unfiltered, names=[\"Word\", \"Count\"]).sort_values([\"Count\", \"Word\"], ascending=False).reset_index(drop=True)\n",
    "top_unfiltered.drop(top_unfiltered.index[0], inplace=True)\n",
    "\n",
    "print(f\"The top five words in {title}:\")\n",
    "top_unfiltered.head()"
   ]
  },
  {
   "cell_type": "markdown",
   "metadata": {},
   "source": [
    "### Top hundred ranked words (unfiltered list)"
   ]
  },
  {
   "cell_type": "code",
   "execution_count": 2,
   "metadata": {},
   "outputs": [
    {
     "name": "stdout",
     "output_type": "stream",
     "text": [
      "53.86%\n"
     ]
    }
   ],
   "source": [
    "one_hundred = top_unfiltered[:100]\n",
    "hundred_total = one_hundred[\"Count\"].sum()/ top_unfiltered[\"Count\"].sum()\n",
    "print(f'{str(hundred_total * 100)[:5]}%')"
   ]
  },
  {
   "cell_type": "code",
   "execution_count": 3,
   "metadata": {},
   "outputs": [
    {
     "name": "stdout",
     "output_type": "stream",
     "text": [
      "Percentage overall of the 100 words: 1.67%\n"
     ]
    }
   ],
   "source": [
    "print(f'Percentage overall of the 100 words: {str(((len(one_hundred)/len(top_unfiltered))*100))[:4]}%')"
   ]
  },
  {
   "cell_type": "markdown",
   "metadata": {},
   "source": [
    "### How many words for 80% comprehension"
   ]
  },
  {
   "cell_type": "code",
   "execution_count": 4,
   "metadata": {
    "scrolled": true
   },
   "outputs": [
    {
     "name": "stdout",
     "output_type": "stream",
     "text": [
      "It takes 725 words (rounded to nearest 25) to reach 80.19% comprehension.\n"
     ]
    },
    {
     "data": {
      "text/html": [
       "<div>\n",
       "<style scoped>\n",
       "    .dataframe tbody tr th:only-of-type {\n",
       "        vertical-align: middle;\n",
       "    }\n",
       "\n",
       "    .dataframe tbody tr th {\n",
       "        vertical-align: top;\n",
       "    }\n",
       "\n",
       "    .dataframe thead th {\n",
       "        text-align: right;\n",
       "    }\n",
       "</style>\n",
       "<table border=\"1\" class=\"dataframe\">\n",
       "  <thead>\n",
       "    <tr style=\"text-align: right;\">\n",
       "      <th></th>\n",
       "      <th>Word</th>\n",
       "      <th>Count</th>\n",
       "    </tr>\n",
       "  </thead>\n",
       "  <tbody>\n",
       "    <tr>\n",
       "      <th>721</th>\n",
       "      <td>Music</td>\n",
       "      <td>8</td>\n",
       "    </tr>\n",
       "    <tr>\n",
       "      <th>722</th>\n",
       "      <td>Meet</td>\n",
       "      <td>8</td>\n",
       "    </tr>\n",
       "    <tr>\n",
       "      <th>723</th>\n",
       "      <td>Lady</td>\n",
       "      <td>8</td>\n",
       "    </tr>\n",
       "    <tr>\n",
       "      <th>724</th>\n",
       "      <td>June</td>\n",
       "      <td>8</td>\n",
       "    </tr>\n",
       "    <tr>\n",
       "      <th>725</th>\n",
       "      <td>Invited</td>\n",
       "      <td>8</td>\n",
       "    </tr>\n",
       "  </tbody>\n",
       "</table>\n",
       "</div>"
      ],
      "text/plain": [
       "        Word  Count\n",
       "721    Music      8\n",
       "722     Meet      8\n",
       "723     Lady      8\n",
       "724     June      8\n",
       "725  Invited      8"
      ]
     },
     "execution_count": 4,
     "metadata": {},
     "output_type": "execute_result"
    }
   ],
   "source": [
    "eighty = top_unfiltered[:725]\n",
    "words = 725\n",
    "eighty_total = eighty[\"Count\"].sum()/ top_unfiltered[\"Count\"].sum()\n",
    "print(f'It takes {words} words (rounded to nearest 25) to reach {str(eighty_total * 100)[:5]}% comprehension.')\n",
    "eighty.tail()"
   ]
  },
  {
   "cell_type": "code",
   "execution_count": 5,
   "metadata": {},
   "outputs": [
    {
     "name": "stdout",
     "output_type": "stream",
     "text": [
      "Percentage of the 725 words in book: 12.1%\n"
     ]
    }
   ],
   "source": [
    "print(f'Percentage of the {words} words in book: {str((len(eighty)/len(top_unfiltered))*100)[:4]}%')"
   ]
  },
  {
   "cell_type": "markdown",
   "metadata": {},
   "source": [
    "### Now to transfer that to our filtered list..."
   ]
  },
  {
   "cell_type": "code",
   "execution_count": 6,
   "metadata": {},
   "outputs": [
    {
     "name": "stdout",
     "output_type": "stream",
     "text": [
      "        Word  Count\n",
      "659  Invited      8\n",
      "          Word  Count\n",
      "655       Noon      8\n",
      "656  Neighbour      8\n",
      "657      Music      8\n",
      "658       Meet      8\n",
      "659    Invited      8\n"
     ]
    }
   ],
   "source": [
    "top = pd.read_csv(filtered, names=[\"Word\", \"Count\"]).sort_values([\"Count\", \"Word\"], ascending=False).reset_index(drop=True)\n",
    "print(top.loc[top['Word']=='Invited'])\n",
    "vocab = top[:660]\n",
    "print(vocab.tail())\n",
    "vocab_hundred = vocab[:100]"
   ]
  },
  {
   "cell_type": "markdown",
   "metadata": {},
   "source": [
    "### Comparisons to Modern English words (according to Google's n-gram)"
   ]
  },
  {
   "cell_type": "code",
   "execution_count": 7,
   "metadata": {},
   "outputs": [
    {
     "name": "stdout",
     "output_type": "stream",
     "text": [
      "Top 100 The Great Gatsby words NOT in 100 Top Modern English Words: \n",
      "\n",
      "['She', 'Had', 'Her', 'Him', 'Said', 'Into', 'Then', 'Over', 'Down', 'Man', 'Came', 'Know', 'Little', 'Hand', 'House', 'Went', 'Just', 'Eyes', 'Car', 'Before', 'Looked', 'Got', 'Didn', 'Them', 'Old', 'Room', 'Night', 'Don', 'Way', 'Away', 'Moment', 'Door', 'Around', 'Think', 'Two', 'Girl', 'Want', 'Going', 'After']\n"
     ]
    }
   ],
   "source": [
    "n_gram = pd.read_csv('edited_n_gram.csv', names = [\"drop\", \"Word\", \"Count\"])\n",
    "n_gram.drop([\"drop\"], axis=1, inplace=True)\n",
    "n_gram.drop(index=[0], inplace=True)\n",
    "n_hundred= n_gram[:100]\n",
    "x = vocab_hundred.assign(hundred_in=vocab_hundred.Word.isin(n_hundred.Word).astype(int))\n",
    "h = x[x[\"hundred_in\"] == 0]\n",
    "h = list(h[\"Word\"].unique())\n",
    "h.remove(\"Ll\")\n",
    "h.remove(\"Ve\")\n",
    "print(f'Top 100 {title} words NOT in 100 Top Modern English Words: \\n\\n{h}')"
   ]
  },
  {
   "cell_type": "code",
   "execution_count": 8,
   "metadata": {},
   "outputs": [
    {
     "name": "stdout",
     "output_type": "stream",
     "text": [
      "The Great Gatsby Vocab List Words NOT in Top 1000 Modern Words (names/locations excluded): \n",
      "\n",
      " ['Came', 'Went', 'Eyes', 'Looked', 'Didn', 'Don', 'Moment', 'Door', 'Turned', 'Voice', 'Knew', 'Saw', 'Toward', 'Began', 'Sport', 'Took', 'Hour', 'Told', 'Heard', 'Afternoon', 'Asked', 'Seemed', 'Cry', 'Wasn', 'Minute', 'Nothing', 'Alone', 'Suddenly', 'Sat', 'Clock', 'Morning', 'Himself', 'Stood', 'Garage', 'Couldn', 'Arm', 'Wanted', 'Lawn', 'O', 'Moved', 'Inquired', 'Gave', 'Marry', 'Dark', 'Across', 'Rather', 'Felt', 'Demanded', 'Anything', 'Wife', 'Walked', 'Matter', 'Hear', 'Gone', 'Feet', 'Dog', 'Broke', 'Hair', 'Wouldn', 'Woman', 'Rose', 'Hadn', 'Chair', 'Beside', 'Stopped', 'Met', 'Loved', 'Butler', 'Trying', 'Train', 'Telephone', 'Summer', 'Idea', 'Evening', 'Dress', 'Shoulder', 'Passed', 'Ought', 'Itself', 'Inside', 'Hundred', 'Happened', 'Grey', 'Dozen', 'Brought', 'Behind', 'Talked', 'Suit', 'Slowly', 'Shook', 'Rain', 'Opened', 'Myself', 'Fell', 'Except', 'Coat', 'Answered', 'Almost', 'Waited', 'Sent', 'Porch', 'Nodded', 'Mckee', 'Insisted', 'Immediately', 'Hall', 'Expression', 'Bright', 'Bought', 'Believe', 'Bed', 'Arrived', 'Won', 'Stared', 'Standing', 'Somebody', 'Sitting', 'Reached', 'Quickly', 'Outside', 'Leaned', 'Laughed', 'Isn', 'Husband', 'Glanced', 'Followed', 'Floor', 'Finger', 'Drove', 'Understand', 'Trees', 'Tomorrow', 'Suggested', 'Speak', 'Sister', 'Pretty', 'Policeman', 'Pale', 'Mouth', 'Longer', 'Hurry', 'Held', 'Heat', 'Explained', 'Effort', 'Dream', 'Doesn', 'Corner', 'Cool', 'Cold', 'Wind', 'Whispered', 'Smiled', 'Sight', 'Ran', 'Pulled', 'Pool', 'Nice', 'Lunch', 'Leaving', 'Lay', 'Late', 'Grass', 'Forward', 'Dinner', 'Deep', 'Continued', 'Certain', 'Boy', 'Wait', 'Surprised', 'Suppose', 'Somewhere', 'Shadow', 'Remarked', 'Raised', 'Perhap', 'Nose', 'Movement', 'Mine', 'Laughter', 'Lady', 'Kind', 'Killed', 'Kept', 'Haven', 'Happen', 'Forever', 'Faces', 'Drink', 'Dead', 'Curious', 'Crowd', 'Crazy', 'Coupã', 'Wet', 'Warm', 'Wall', 'Voices', 'Tea', 'Sit', 'Silver', 'Sick', 'Saying', 'Rest', 'Repeated', 'Mind', 'Lost', 'Lived', 'Lip', 'Leave', 'Glad', 'Flower', 'Fifty', 'Enormous', 'Couch', 'Breath', 'Beyond', 'Asleep', 'Wild', 'Wheel', 'Turning', 'Trembling', 'Thirty', 'Talking', 'Spoke', 'Someone', 'Romantic', 'Remembered', 'Remark', 'Rang', 'Object', 'Newspaper', 'Murmur', 'Moving', 'Move', 'Mother', 'Lovely', 'Guest', 'Glass', 'Funny', 'Forgotten', 'Forget', 'Fine', 'Finally', 'Faintly', 'Eat', 'Ear', 'Dust', 'Driving', 'Conversation', 'Coming', 'Coloured', 'Chauffeur', 'Broken', 'Apartment', 'Anyone', 'Anyhow', 'Yard', 'Wonder', 'Wire', 'Whose', 'Whom', 'Walking', 'Upstair', 'Unfamiliar', 'Twilight', 'Trouble', 'Touch', 'Taxi', 'Stayed', 'Station', 'Stand', 'Slightly', 'Sleep', 'Sky', 'Silence', 'Shirt', 'Sery', 'Scene', 'Rich', 'Presence', 'Poor', 'Pocket', 'Pause', 'Occurred', 'Names', 'Named', 'Moon', 'Letter', 'Laugh', 'Kitchen', 'Hesitated', 'Hardly', 'Feeling', 'Familiar', 'Exclaimed', 'Everyone', 'Eagerly', 'Drunk', 'Drew', 'Darkness', 'Colour', 'Changed', 'Carry', 'Became', 'Aware', 'Answer', 'Agreed', 'Afraid', 'Affair', 'Thinking', 'Thin', 'Thick', 'Terrible', 'Taking', 'Supper', 'Strained', 'Sometimes', 'Soft', 'Smile', 'Silent', 'Shape', 'Secret', 'Sad', 'Reason', 'Quite', 'Pushed', 'Politely', 'Physical', 'Pair', 'Opening', 'Noon', 'Neighbour', 'Invited']\n"
     ]
    }
   ],
   "source": [
    "y = vocab.assign(vocab_in=vocab.Word.isin(n_gram.Word).astype(int))\n",
    "t = y[y[\"vocab_in\"] == 0]\n",
    "t = list(t[\"Word\"].unique())\n",
    "t.remove(\"Ll\")\n",
    "t.remove(\"Ve\")\n",
    "t.remove(\"Re\")\n",
    "print(f'{title} Vocab List Words NOT in Top 1000 Modern Words (names/locations excluded): \\n\\n {t}')"
   ]
  },
  {
   "cell_type": "code",
   "execution_count": 9,
   "metadata": {},
   "outputs": [
    {
     "name": "stdout",
     "output_type": "stream",
     "text": [
      "Length of vocab list: 335\n"
     ]
    }
   ],
   "source": [
    "print(f'Length of vocab list: {len(t)}')"
   ]
  },
  {
   "cell_type": "code",
   "execution_count": 10,
   "metadata": {},
   "outputs": [
    {
     "name": "stdout",
     "output_type": "stream",
     "text": [
      "Overall word count of book: 49921\n"
     ]
    }
   ],
   "source": [
    "print(f'Overall word count of book: {top_unfiltered[\"Count\"].sum()}')"
   ]
  },
  {
   "cell_type": "code",
   "execution_count": 11,
   "metadata": {},
   "outputs": [
    {
     "name": "stdout",
     "output_type": "stream",
     "text": [
      "53.87 1.67 725 80.19 335 49921\n"
     ]
    }
   ],
   "source": [
    "print(f'{str(round(hundred_total * 100, 2))}', f'{str(round((len(one_hundred)/len(top_unfiltered))*100, 2))}', words, f'{str(round(eighty_total * 100, 2))}', f'{len(t)}', f'{top_unfiltered[\"Count\"].sum()}')"
   ]
  },
  {
   "cell_type": "code",
   "execution_count": 2,
   "metadata": {},
   "outputs": [
    {
     "name": "stdout",
     "output_type": "stream",
     "text": [
      "Mouth 448    14\n",
      "Name: Count, dtype: int64\n",
      "Lips 597    10\n",
      "Name: Count, dtype: int64\n",
      "Head 177    40\n",
      "Name: Count, dtype: int64\n",
      "Face 135    55\n",
      "Name: Count, dtype: int64\n",
      "Hair 292    22\n",
      "Name: Count, dtype: int64\n",
      "Eyes 76    88\n",
      "Name: Count, dtype: int64\n",
      "Eye 1702    3\n",
      "Name: Count, dtype: int64\n",
      "Ear 675    9\n",
      "Name: Count, dtype: int64\n",
      "Ears 5057    1\n",
      "Name: Count, dtype: int64\n",
      "Butt Series([], Name: Count, dtype: int64)\n",
      "Ass Series([], Name: Count, dtype: int64)\n",
      "Feet 284    23\n",
      "Name: Count, dtype: int64\n",
      "Foot 735    8\n",
      "Name: Count, dtype: int64\n",
      "Leg 2282    2\n",
      "Name: Count, dtype: int64\n",
      "Legs 2280    2\n",
      "Name: Count, dtype: int64\n",
      "Hand 122    63\n",
      "Name: Count, dtype: int64\n",
      "Hands 188    38\n",
      "Name: Count, dtype: int64\n"
     ]
    }
   ],
   "source": [
    "body = [\"Mouth\", \"Lips\", \"Head\", \"Face\", \"Hair\", \"Eyes\", \"Eye\", \"Ear\", \"Ears\", \"Butt\", \"Ass\", \"Feet\", \"Foot\", \"Leg\", \"Legs\", \"Hand\", \"Hands\"]\n",
    "\n",
    "for part in body:\n",
    "    try:\n",
    "        x = top_unfiltered.loc[top_unfiltered['Word']==part]\n",
    "        print(part, x[\"Count\"])\n",
    "    except:\n",
    "        continue"
   ]
  },
  {
   "cell_type": "code",
   "execution_count": null,
   "metadata": {},
   "outputs": [],
   "source": [
    "gatsby = {\"Mouth/Lips\": 24, \"Head\": 40, \"Face\": 55, \"Hair\": 22, \"Eye(s)\": 91, \"Ear(s)\": 10, \"Foot/Feet\": 31, \"Leg(s)\": 4, \"Hand(s)\": 101 }"
   ]
  }
 ],
 "metadata": {
  "kernelspec": {
   "display_name": "Python 3",
   "language": "python",
   "name": "python3"
  },
  "language_info": {
   "codemirror_mode": {
    "name": "ipython",
    "version": 3
   },
   "file_extension": ".py",
   "mimetype": "text/x-python",
   "name": "python",
   "nbconvert_exporter": "python",
   "pygments_lexer": "ipython3",
   "version": "3.7.6"
  }
 },
 "nbformat": 4,
 "nbformat_minor": 4
}
