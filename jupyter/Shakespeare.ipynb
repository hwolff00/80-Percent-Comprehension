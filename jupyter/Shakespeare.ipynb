{
 "cells": [
  {
   "cell_type": "markdown",
   "metadata": {},
   "source": [
    "# Shakespearean Cannon"
   ]
  },
  {
   "cell_type": "code",
   "execution_count": 1,
   "metadata": {},
   "outputs": [
    {
     "name": "stdout",
     "output_type": "stream",
     "text": [
      "The top five words in Shakespearean Cannon:\n"
     ]
    },
    {
     "data": {
      "text/html": [
       "<div>\n",
       "<style scoped>\n",
       "    .dataframe tbody tr th:only-of-type {\n",
       "        vertical-align: middle;\n",
       "    }\n",
       "\n",
       "    .dataframe tbody tr th {\n",
       "        vertical-align: top;\n",
       "    }\n",
       "\n",
       "    .dataframe thead th {\n",
       "        text-align: right;\n",
       "    }\n",
       "</style>\n",
       "<table border=\"1\" class=\"dataframe\">\n",
       "  <thead>\n",
       "    <tr style=\"text-align: right;\">\n",
       "      <th></th>\n",
       "      <th>Word</th>\n",
       "      <th>Count</th>\n",
       "    </tr>\n",
       "  </thead>\n",
       "  <tbody>\n",
       "    <tr>\n",
       "      <th>0</th>\n",
       "      <td>The</td>\n",
       "      <td>29141</td>\n",
       "    </tr>\n",
       "    <tr>\n",
       "      <th>1</th>\n",
       "      <td>And</td>\n",
       "      <td>28028</td>\n",
       "    </tr>\n",
       "    <tr>\n",
       "      <th>2</th>\n",
       "      <td>I</td>\n",
       "      <td>23671</td>\n",
       "    </tr>\n",
       "    <tr>\n",
       "      <th>3</th>\n",
       "      <td>To</td>\n",
       "      <td>21015</td>\n",
       "    </tr>\n",
       "    <tr>\n",
       "      <th>4</th>\n",
       "      <td>Of</td>\n",
       "      <td>18368</td>\n",
       "    </tr>\n",
       "  </tbody>\n",
       "</table>\n",
       "</div>"
      ],
      "text/plain": [
       "  Word  Count\n",
       "0  The  29141\n",
       "1  And  28028\n",
       "2    I  23671\n",
       "3   To  21015\n",
       "4   Of  18368"
      ]
     },
     "execution_count": 1,
     "metadata": {},
     "output_type": "execute_result"
    }
   ],
   "source": [
    "import pandas as pd\n",
    "import numpy as np\n",
    "\n",
    "title = \"Shakespearean Cannon\"\n",
    "unfiltered = \"Shakespeare.csv\"\n",
    "filtered = \"Shakespeare_filtered.csv\"\n",
    "\n",
    "top_unfiltered = pd.read_csv(unfiltered, names=[\"Word\", \"Count\"]).sort_values([\"Count\", \"Word\"], ascending=False).reset_index(drop=True)\n",
    "#top_unfiltered.drop(top_unfiltered.index[0], inplace=True)\n",
    "\n",
    "print(f\"The top five words in {title}:\")\n",
    "top_unfiltered.head()"
   ]
  },
  {
   "cell_type": "markdown",
   "metadata": {},
   "source": [
    "### Top hundred ranked words (unfiltered list)\n"
   ]
  },
  {
   "cell_type": "code",
   "execution_count": 15,
   "metadata": {},
   "outputs": [
    {
     "name": "stdout",
     "output_type": "stream",
     "text": [
      "52.62%\n"
     ]
    }
   ],
   "source": [
    "one_hundred = top_unfiltered[:100]\n",
    "hundred_total = one_hundred[\"Count\"].sum()/ top_unfiltered[\"Count\"].sum()\n",
    "print(f'{str(hundred_total * 100)[:5]}%')"
   ]
  },
  {
   "cell_type": "code",
   "execution_count": 16,
   "metadata": {},
   "outputs": [
    {
     "name": "stdout",
     "output_type": "stream",
     "text": [
      "Percentage overall of the 100 words: 0.38%\n"
     ]
    }
   ],
   "source": [
    "print(f'Percentage overall of the 100 words: {str(((len(one_hundred)/len(top_unfiltered))*100))[:4]}%')"
   ]
  },
  {
   "cell_type": "markdown",
   "metadata": {},
   "source": [
    "### How many words for 80% comprehension"
   ]
  },
  {
   "cell_type": "code",
   "execution_count": 17,
   "metadata": {},
   "outputs": [
    {
     "name": "stdout",
     "output_type": "stream",
     "text": [
      "It takes 1025 words (rounded to nearest 25) to reach 80.20% comprehension.\n"
     ]
    },
    {
     "data": {
      "text/html": [
       "<div>\n",
       "<style scoped>\n",
       "    .dataframe tbody tr th:only-of-type {\n",
       "        vertical-align: middle;\n",
       "    }\n",
       "\n",
       "    .dataframe tbody tr th {\n",
       "        vertical-align: top;\n",
       "    }\n",
       "\n",
       "    .dataframe thead th {\n",
       "        text-align: right;\n",
       "    }\n",
       "</style>\n",
       "<table border=\"1\" class=\"dataframe\">\n",
       "  <thead>\n",
       "    <tr style=\"text-align: right;\">\n",
       "      <th></th>\n",
       "      <th>Word</th>\n",
       "      <th>Count</th>\n",
       "    </tr>\n",
       "  </thead>\n",
       "  <tbody>\n",
       "    <tr>\n",
       "      <th>1020</th>\n",
       "      <td>Virtuous</td>\n",
       "      <td>102</td>\n",
       "    </tr>\n",
       "    <tr>\n",
       "      <th>1021</th>\n",
       "      <td>Treason</td>\n",
       "      <td>102</td>\n",
       "    </tr>\n",
       "    <tr>\n",
       "      <th>1022</th>\n",
       "      <td>Title</td>\n",
       "      <td>102</td>\n",
       "    </tr>\n",
       "    <tr>\n",
       "      <th>1023</th>\n",
       "      <td>Seal</td>\n",
       "      <td>102</td>\n",
       "    </tr>\n",
       "    <tr>\n",
       "      <th>1024</th>\n",
       "      <td>Harm</td>\n",
       "      <td>102</td>\n",
       "    </tr>\n",
       "  </tbody>\n",
       "</table>\n",
       "</div>"
      ],
      "text/plain": [
       "          Word  Count\n",
       "1020  Virtuous    102\n",
       "1021   Treason    102\n",
       "1022     Title    102\n",
       "1023      Seal    102\n",
       "1024      Harm    102"
      ]
     },
     "execution_count": 17,
     "metadata": {},
     "output_type": "execute_result"
    }
   ],
   "source": [
    "eighty = top_unfiltered[:1025]\n",
    "words = 1025\n",
    "eighty_total = eighty[\"Count\"].sum()/ top_unfiltered[\"Count\"].sum()\n",
    "print(f'It takes {words} words (rounded to nearest 25) to reach {str(eighty_total * 100)[:5]}% comprehension.')\n",
    "eighty.tail()"
   ]
  },
  {
   "cell_type": "code",
   "execution_count": 18,
   "metadata": {},
   "outputs": [
    {
     "name": "stdout",
     "output_type": "stream",
     "text": [
      "Percentage of the 1025 words in book: 3.97%\n"
     ]
    }
   ],
   "source": [
    "print(f'Percentage of the {words} words in book: {str((len(eighty)/len(top_unfiltered))*100)[:4]}%')"
   ]
  },
  {
   "cell_type": "markdown",
   "metadata": {},
   "source": [
    "### Now to transfer that to our filtered list..."
   ]
  },
  {
   "cell_type": "code",
   "execution_count": 19,
   "metadata": {},
   "outputs": [
    {
     "name": "stdout",
     "output_type": "stream",
     "text": [
      "      Word  Count\n",
      "777  Title    101\n",
      "       Word  Count\n",
      "773  Health    102\n",
      "774    Fine    102\n",
      "775     Buy    102\n",
      "776   Birth    102\n",
      "777   Title    101\n"
     ]
    }
   ],
   "source": [
    "top = pd.read_csv(filtered, names=[\"Word\", \"Count\"]).sort_values([\"Count\", \"Word\"], ascending=False).reset_index(drop=True)\n",
    "print(top.loc[top['Word']=='Title'])\n",
    "vocab = top[:778]\n",
    "print(vocab.tail())\n",
    "vocab_hundred = vocab[:100]"
   ]
  },
  {
   "cell_type": "markdown",
   "metadata": {},
   "source": [
    "### Compare to modern English word rankings (from Google's n-gram)"
   ]
  },
  {
   "cell_type": "code",
   "execution_count": 20,
   "metadata": {},
   "outputs": [
    {
     "name": "stdout",
     "output_type": "stream",
     "text": [
      "Top 100 Shakespearean Cannon words NOT in 100 Top Modern English Words: \n",
      "\n",
      "['Him', 'Thou', 'Her', 'Thy', 'Thee', 'Shall', 'She', 'O', 'Then', 'Good', 'Lord', 'Love', 'Them', 'Man', 'Know', 'Sir', 'Well', 'Hath', 'Come', 'Say', 'Make', 'Why', 'Let', 'Upon', 'Should', 'Did', 'Must', 'Where', 'Had', 'Such', 'Too', 'Heart', 'Yet', 'Hand', 'Go', 'St']\n"
     ]
    }
   ],
   "source": [
    "n_gram = pd.read_csv('edited_n_gram.csv', names = [\"drop\", \"Word\", \"Count\"])\n",
    "n_gram.drop([\"drop\"], axis=1, inplace=True)\n",
    "n_gram.drop(index=[0], inplace=True)\n",
    "n_hundred= n_gram[:100]\n",
    "x = vocab_hundred.assign(hundred_in=vocab_hundred.Word.isin(n_hundred.Word).astype(int))\n",
    "h = x[x[\"hundred_in\"] == 0]\n",
    "h = list(h[\"Word\"].unique())\n",
    "h.remove(\"Ll\")\n",
    "# h.remove(\"Ve\")\n",
    "print(f'Top 100 {title} words NOT in 100 Top Modern English Words: \\n\\n{h}')"
   ]
  },
  {
   "cell_type": "code",
   "execution_count": 21,
   "metadata": {},
   "outputs": [
    {
     "name": "stdout",
     "output_type": "stream",
     "text": [
      "Shakespearean Cannon Vocab List Words NOT in Top 1000 Modern Words (names/locations excluded): \n",
      "\n",
      " ['Thou', 'Thy', 'Thee', 'O', 'Lord', 'Sir', 'Hath', 'Speak', 'Mine', 'Father', 'Th', 'Doth', 'Hear', 'Son', 'Honour', 'Tis', 'Eyes', 'Fair', 'Cannot', 'Heaven', 'Lady', 'Fear', 'Sweet', 'Blood', 'Er', 'Brother', 'Nor', 'Leave', 'Thus', 'Stand', 'Bear', 'Noble', 'Comes', 'Master', 'Soul', 'Pray', 'Poor', 'Nothing', 'Dead', 'Hast', 'Daughter', 'Myself', 'Wife', 'Fool', 'Eye', 'Die', 'Hold', 'Gone', 'Hour', 'Thine', 'Bring', 'Himself', 'Woman', 'Mind', 'Till', 'Mother', 'Arm', 'Tongue', 'Answer', 'Dear', 'Fall', 'Whose', 'Sword', 'Thank', 'Peace', 'Forth', 'Matter', 'Rest', 'Fellow', 'Spirit', 'Ear', 'Tear', 'Unto', 'Letter', 'Hope', 'Therefore', 'Husband', 'Heard', 'Gentle', 'Reason', 'Indeed', 'Follow', 'Whom', 'Wrong', 'Crown', 'Kill', 'Boy', 'Wit', 'Thousand', 'Bed', 'Cause', 'Marry', 'Bid', 'Dost', 'Cry', 'Truth', 'Seem', 'Faith', 'Madam', 'Shame', 'Earth', 'Came', 'Hence', 'Grace', 'Ere', 'Ye', 'Shalt', 'Hither', 'False', 'Soldier', 'Gentleman', 'Lie', 'Rather', 'Fight', 'Ill', 'Grief', 'Ring', 'Honest', 'Youth', 'Fly', 'Enemy', 'Deed', 'Kind', 'Sleep', 'Saw', 'Queen', 'Fault', 'Mistress', 'Sea', 'Break', 'Wish', 'Villain', 'Lost', 'Ly', 'Fortune', 'Swear', 'Mad', 'Yourself', 'Sorrow', 'Sent', 'Pardon', 'Devil', 'Lay', 'Breath', 'Strange', 'Horse', 'Wind', 'Maid', 'Alone', 'Sit', 'Itself', 'Cousin', 'Seek', 'Morrow', 'Wilt', 'Told', 'Prove', 'Pity', 'Sight', 'Desire', 'Foul', 'Gave', 'Wear', 'Dy', 'Bloody', 'Worthy', 'Oath', 'Hang', 'Door', 'Worth', 'Sin', 'Ne', 'Em', 'Kiss', 'Grow', 'Purpose', 'Comfort', 'Draw', 'Cold', 'Weep', 'Strong', 'Fit', 'Beseech', 'Joy', 'Sister', 'Royal', 'Proud', 'Charge', 'Lose', 'Dare', 'Servant', 'Brought', 'Born', 'Loves', 'Late', 'Lives', 'Dog', 'Bound', 'Happy', 'Holy', 'Deny', 'Grave', 'Favour', 'Thyself', 'Command', 'Virtue', 'Foot', 'Pleasure', 'Appear', 'Ground', 'Uncle', 'Believe', 'Traitor', 'Serve', 'Warrant', 'Sake', 'Doubt', 'Lip', 'Praise', 'Mercy', 'Gracious', 'Ho', 'Mouth', 'Sing', 'Sad', 'Heavy', 'Hate', 'Goes', 'Dream', 'Cut', 'Suit', 'Farewell', 'Pass', 'Duty', 'Themselves', 'Hell', 'Sick', 'Knight', 'Knave', 'Vow', 'Neither', 'Drink', 'Certain', 'Patience', 'Merry', 'Wise', 'Rich', 'Colour', 'Knew', 'Pain', 'Touch', 'Begin', 'Lov', 'Haste', 'Trust', 'Deep', 'Blow', 'Wound', 'Eat', 'Voice', 'Cheek', 'Canst', 'Twenty', 'Manner', 'Brave', 'Worse', 'Lead', 'Gentlemen', 'Toward', 'Took', 'Bosom', 'Tender', 'Walk', 'Hair', 'Straight', 'Valiant', 'Sovereign', 'Prince', 'En', 'Presently', 'Yield', 'Wonder', 'Bold', 'Coming', 'Almost', 'Soon', 'Counsel', 'Wall', 'Morning', 'Justice', 'Didst', 'Woe', 'Flesh', 'Spoke', 'Carry', 'Trumpet', 'Withal', 'Brain', 'Tonight', 'Oft', 'Sport', 'Pale', 'Liege', 'Beat', 'Strength', 'Humour', 'Chamber', 'Prayer', 'Mock', 'Met', 'Glad', 'Revenge', 'Fell', 'Behold', 'Ten', 'Sworn', 'Slave', 'Ready', 'Heir', 'Speech', 'Rage', 'Murder', 'Gives', 'Drop', 'Pluck', 'Passion', 'Moon', 'Flower', 'Slain', 'Sense', 'Prisoner', 'Deliver', 'Lordship', 'Drum', 'Confess', 'Win', 'Scorn', 'Lack', 'Lion', 'Labour', 'Honourable', 'Attend', 'Sigh', 'Truly', 'Strike', 'Loving', 'Danger', 'Brow', 'Respect', 'Plain', 'Ha', 'Pretty', 'Lover', 'Jest', 'Conscience', 'Breast', 'Vile', 'Marriage', 'Fortunes', 'Suffer', 'Feast', 'De', 'Behind', 'Entreat', 'Affection', 'Hundred', 'Harm', 'Fashion', 'Wouldst', 'Tale', 'Pride', 'Offence', 'Coward', 'Weak', 'Laugh', 'Worship', 'Mighty', 'Guard', 'Chance', 'Treason', 'Tent', 'Longer', 'Burn', 'Battle', 'Valour', 'Quarrel', 'Finger', 'Twas', 'Leg', 'Hurt', 'Hide', 'Beast', 'Throw', 'Ourselves', 'Mortal', 'Worst', 'Witness', 'Shadow', 'Promise', 'Excellent', 'Beard', 'Presence', 'Kept', 'Grant', 'Cast', 'Remain', 'Noise', 'Glory', 'Curse', 'Majesty', 'Bless', 'Went', 'Prithee', 'Fetch', 'Army', 'Understand', 'Poison', 'Beg', 'Writ', 'Wisdom', 'Seal', 'Dangerous', 'Cross', 'Woo', 'Won', 'Wing', 'Takes', 'Anything', 'Angry', 'Troth', 'Teach', 'Herself', 'Fine', 'Birth']\n"
     ]
    }
   ],
   "source": [
    "y = vocab.assign(vocab_in=vocab.Word.isin(n_gram.Word).astype(int))\n",
    "t = y[y[\"vocab_in\"] == 0]\n",
    "t = list(t[\"Word\"].unique())\n",
    "t.remove(\"Ll\")\n",
    "\n",
    "print(f'{title} Vocab List Words NOT in Top 1000 Modern Words (names/locations excluded): \\n\\n {t}')"
   ]
  },
  {
   "cell_type": "code",
   "execution_count": 22,
   "metadata": {},
   "outputs": [
    {
     "name": "stdout",
     "output_type": "stream",
     "text": [
      "Length of vocab list: 434\n"
     ]
    }
   ],
   "source": [
    "print(f'Length of vocab list: {len(t)}')"
   ]
  },
  {
   "cell_type": "code",
   "execution_count": 23,
   "metadata": {},
   "outputs": [
    {
     "name": "stdout",
     "output_type": "stream",
     "text": [
      "Overall word count of book: 971373\n"
     ]
    }
   ],
   "source": [
    "print(f'Overall word count of book: {top_unfiltered[\"Count\"].sum()}')"
   ]
  },
  {
   "cell_type": "code",
   "execution_count": 24,
   "metadata": {},
   "outputs": [
    {
     "name": "stdout",
     "output_type": "stream",
     "text": [
      "52.62 0.39 1025 80.21 434 971373\n"
     ]
    }
   ],
   "source": [
    "print(f'{str(round(hundred_total * 100, 2))}', f'{str(round((len(one_hundred)/len(top_unfiltered))*100, 2))}', words, f'{str(round(eighty_total * 100, 2))}', f'{len(t)}', f'{top_unfiltered[\"Count\"].sum()}')"
   ]
  },
  {
   "cell_type": "code",
   "execution_count": 2,
   "metadata": {},
   "outputs": [
    {
     "name": "stdout",
     "output_type": "stream",
     "text": [
      "Mouth 749    146\n",
      "Name: Count, dtype: int64\n",
      "Lips 720    153\n",
      "Name: Count, dtype: int64\n",
      "Head 207    560\n",
      "Name: Count, dtype: int64\n",
      "Face 254    468\n",
      "Name: Count, dtype: int64\n",
      "Hair 855    125\n",
      "Name: Count, dtype: int64\n",
      "Eyes 153    773\n",
      "Name: Count, dtype: int64\n",
      "Eye 237    494\n",
      "Name: Count, dtype: int64\n",
      "Ear 519    215\n",
      "Name: Count, dtype: int64\n",
      "Ears 643    173\n",
      "Name: Count, dtype: int64\n",
      "Butt 4090    17\n",
      "Name: Count, dtype: int64\n",
      "Ass 1099    94\n",
      "Name: Count, dtype: int64\n",
      "Feet 1613    59\n",
      "Name: Count, dtype: int64\n",
      "Foot 562    197\n",
      "Name: Count, dtype: int64\n",
      "Leg 2189    40\n",
      "Name: Count, dtype: int64\n",
      "Legs 1360    73\n",
      "Name: Count, dtype: int64\n",
      "Hand 136    910\n",
      "Name: Count, dtype: int64\n",
      "Hands 328    336\n",
      "Name: Count, dtype: int64\n"
     ]
    }
   ],
   "source": [
    "body = [\"Mouth\", \"Lips\", \"Head\", \"Face\", \"Hair\", \"Eyes\", \"Eye\", \"Ear\", \"Ears\", \"Butt\", \"Ass\", \"Feet\", \"Foot\", \"Leg\", \"Legs\", \"Hand\", \"Hands\"]\n",
    "\n",
    "for part in body:\n",
    "    try:\n",
    "        x = top_unfiltered.loc[top_unfiltered['Word']==part]\n",
    "        print(part, x[\"Count\"])\n",
    "    except:\n",
    "        continue"
   ]
  },
  {
   "cell_type": "code",
   "execution_count": null,
   "metadata": {},
   "outputs": [],
   "source": [
    "gatsby = {\"Mouth/Lips\": 299, \"Head\": 560, \"Face\": 468, \"Hair\": 125, \"Eye(s)\": 1267, \"Ear(s)\": 388, \"Butt/Ass\": 111, \"Foot/Feet\": 256, \"Leg(s)\": 113, \"Hand(s)\": 1246 }"
   ]
  }
 ],
 "metadata": {
  "kernelspec": {
   "display_name": "Python 3",
   "language": "python",
   "name": "python3"
  },
  "language_info": {
   "codemirror_mode": {
    "name": "ipython",
    "version": 3
   },
   "file_extension": ".py",
   "mimetype": "text/x-python",
   "name": "python",
   "nbconvert_exporter": "python",
   "pygments_lexer": "ipython3",
   "version": "3.7.6"
  }
 },
 "nbformat": 4,
 "nbformat_minor": 4
}
