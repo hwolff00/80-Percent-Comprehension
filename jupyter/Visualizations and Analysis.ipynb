{
 "cells": [
  {
   "cell_type": "markdown",
   "metadata": {},
   "source": [
    "# 80% Work Frequency Analysis and Visualization"
   ]
  },
  {
   "cell_type": "code",
   "execution_count": 1,
   "metadata": {},
   "outputs": [],
   "source": [
    "from find_path import find_dir\n",
    "import os\n",
    "import pandas as pd\n",
    "import numpy as np\n",
    "import matplotlib.pyplot as plt\n",
    "import seaborn as sns\n",
    "%matplotlib inline"
   ]
  },
  {
   "cell_type": "code",
   "execution_count": 2,
   "metadata": {},
   "outputs": [],
   "source": [
    "# Pull in word lists\n",
    "frankenstein = []\n",
    "alice = []\n",
    "shakespeare = []\n",
    "two_cities = []\n",
    "gatsby = []\n",
    "pride = []\n",
    "\n",
    "titles = {\"Frankenstein\": frankenstein, \"Alice\": alice, \"Pride\": pride, \"Shakespeare\": shakespeare, \n",
    "         \"Two_Cities\": two_cities, \"Gatsby\": gatsby}\n",
    "\n",
    "def find_path(title):\n",
    "    return f\"{find_dir(title)}/{title}_jupyter.csv\"\n",
    "\n",
    "def csv_to_lst(path):\n",
    "    df = pd.read_csv(path,  names=[\"Index\", \"Word\"], index_col= \"Index\", skiprows=[0])\n",
    "    return list(df[\"Word\"])\n",
    "    \n",
    "for title, value in titles.items():\n",
    "    path = find_path(title)\n",
    "    value += csv_to_lst(path)"
   ]
  },
  {
   "cell_type": "markdown",
   "metadata": {},
   "source": [
    "### Overall summary of words in the word lists *(without comparison to Natural Language Corpus Data)*"
   ]
  },
  {
   "cell_type": "code",
   "execution_count": 3,
   "metadata": {},
   "outputs": [
    {
     "name": "stdout",
     "output_type": "stream",
     "text": [
      "Total words in all text vocab lists: 1983\n",
      "*Not including modern (Natural Language Corpus Data: n-gram) words\n"
     ]
    }
   ],
   "source": [
    "classic = []\n",
    "for x in titles.values():\n",
    "    classic = classic + x\n",
    "print(f'Total words in all text vocab lists: {len(classic)}\\n*Not including modern (Natural Language Corpus Data: n-gram) words')"
   ]
  },
  {
   "cell_type": "code",
   "execution_count": 4,
   "metadata": {},
   "outputs": [
    {
     "name": "stdout",
     "output_type": "stream",
     "text": [
      "Total unique words in all text vocab lists: 1154\n",
      "*Not including modern (Natural Language Corpus Data: n-gram) words\n"
     ]
    }
   ],
   "source": [
    "classic_set = set(classic)\n",
    "print(f'Total unique words in all text vocab lists: {len(classic_set)}\\n*Not including modern (Natural Language Corpus Data: n-gram) words')"
   ]
  },
  {
   "cell_type": "markdown",
   "metadata": {},
   "source": [
    "### Overall summary of word *(with comparison to Natural Language Corpus Data)*"
   ]
  },
  {
   "cell_type": "code",
   "execution_count": 5,
   "metadata": {},
   "outputs": [],
   "source": [
    "n_gram = \"Ngram\"\n",
    "n_gram = f\"{find_dir(n_gram)}/edited_n_gram.csv\"\n",
    "df = pd.read_csv(path,  names=[\"Index\", \"Word\", \"Count\"], index_col= \"Index\", skiprows=[0])\n",
    "n_gram = list(df[\"Word\"])"
   ]
  },
  {
   "cell_type": "code",
   "execution_count": 6,
   "metadata": {},
   "outputs": [
    {
     "name": "stdout",
     "output_type": "stream",
     "text": [
      "Total unique words needed for over 80% comprehension in all texts (n-gram list included): 1489\n"
     ]
    }
   ],
   "source": [
    "print(f'Total unique words needed for over 80% comprehension in all texts (n-gram list included): {len(classic_set) + len(n_gram)}')"
   ]
  },
  {
   "cell_type": "code",
   "execution_count": 7,
   "metadata": {
    "scrolled": true
   },
   "outputs": [
    {
     "name": "stdout",
     "output_type": "stream",
     "text": [
      "Words that appear in all vocab lists (but not in n-gram list): \n",
      "['Eyes', 'Gone', 'Came', 'Speak', 'Saw', 'Rather', 'Poor', 'Hear', 'Door', 'Nothing', 'Gave', 'Knew', 'Went', 'Took', 'Spoke', 'Sister', 'Cry', 'Heard']\n"
     ]
    }
   ],
   "source": [
    "print(f'Words that appear in all vocab lists (but not in n-gram list): \\n{list(set(shakespeare) & set(gatsby)  & set(frankenstein) & set(alice) & set(two_cities) & set(pride))}')"
   ]
  },
  {
   "cell_type": "markdown",
   "metadata": {},
   "source": [
    "## Quick statistical look at vocab lists"
   ]
  },
  {
   "cell_type": "code",
   "execution_count": 8,
   "metadata": {
    "scrolled": true
   },
   "outputs": [
    {
     "data": {
      "text/html": [
       "<div>\n",
       "<style scoped>\n",
       "    .dataframe tbody tr th:only-of-type {\n",
       "        vertical-align: middle;\n",
       "    }\n",
       "\n",
       "    .dataframe tbody tr th {\n",
       "        vertical-align: top;\n",
       "    }\n",
       "\n",
       "    .dataframe thead th {\n",
       "        text-align: right;\n",
       "    }\n",
       "</style>\n",
       "<table border=\"1\" class=\"dataframe\">\n",
       "  <thead>\n",
       "    <tr style=\"text-align: right;\">\n",
       "      <th></th>\n",
       "      <th>Text</th>\n",
       "      <th>Hundred Comprisal %</th>\n",
       "      <th>Hundred Overall %</th>\n",
       "      <th>~80% Comprehension</th>\n",
       "      <th>Actual Comprehension %</th>\n",
       "      <th>Vocab List</th>\n",
       "      <th>Overall Word Count</th>\n",
       "    </tr>\n",
       "  </thead>\n",
       "  <tbody>\n",
       "    <tr>\n",
       "      <th>0</th>\n",
       "      <td>Alice's Adventures in Wonderland</td>\n",
       "      <td>61.04</td>\n",
       "      <td>3.92</td>\n",
       "      <td>350</td>\n",
       "      <td>80.29</td>\n",
       "      <td>101</td>\n",
       "      <td>27675</td>\n",
       "    </tr>\n",
       "    <tr>\n",
       "      <th>1</th>\n",
       "      <td>Frankenstein</td>\n",
       "      <td>55.33</td>\n",
       "      <td>1.43</td>\n",
       "      <td>900</td>\n",
       "      <td>80.13</td>\n",
       "      <td>542</td>\n",
       "      <td>75265</td>\n",
       "    </tr>\n",
       "    <tr>\n",
       "      <th>2</th>\n",
       "      <td>The Great Gatsby</td>\n",
       "      <td>53.87</td>\n",
       "      <td>1.67</td>\n",
       "      <td>725</td>\n",
       "      <td>80.19</td>\n",
       "      <td>335</td>\n",
       "      <td>49921</td>\n",
       "    </tr>\n",
       "    <tr>\n",
       "      <th>3</th>\n",
       "      <td>Pride and Prejudice</td>\n",
       "      <td>59.80</td>\n",
       "      <td>1.60</td>\n",
       "      <td>525</td>\n",
       "      <td>80.54</td>\n",
       "      <td>221</td>\n",
       "      <td>122757</td>\n",
       "    </tr>\n",
       "    <tr>\n",
       "      <th>4</th>\n",
       "      <td>Shakespearean Cannon</td>\n",
       "      <td>52.62</td>\n",
       "      <td>0.39</td>\n",
       "      <td>1025</td>\n",
       "      <td>80.21</td>\n",
       "      <td>434</td>\n",
       "      <td>971373</td>\n",
       "    </tr>\n",
       "    <tr>\n",
       "      <th>5</th>\n",
       "      <td>A Tale of Two Cities</td>\n",
       "      <td>55.64</td>\n",
       "      <td>1.03</td>\n",
       "      <td>750</td>\n",
       "      <td>80.24</td>\n",
       "      <td>350</td>\n",
       "      <td>138015</td>\n",
       "    </tr>\n",
       "  </tbody>\n",
       "</table>\n",
       "</div>"
      ],
      "text/plain": [
       "                               Text  Hundred Comprisal %  Hundred Overall %  \\\n",
       "0  Alice's Adventures in Wonderland                61.04               3.92   \n",
       "1                      Frankenstein                55.33               1.43   \n",
       "2                  The Great Gatsby                53.87               1.67   \n",
       "3               Pride and Prejudice                59.80               1.60   \n",
       "4              Shakespearean Cannon                52.62               0.39   \n",
       "5              A Tale of Two Cities                55.64               1.03   \n",
       "\n",
       "   ~80% Comprehension  Actual Comprehension %  Vocab List  Overall Word Count  \n",
       "0                 350                   80.29         101               27675  \n",
       "1                 900                   80.13         542               75265  \n",
       "2                 725                   80.19         335               49921  \n",
       "3                 525                   80.54         221              122757  \n",
       "4                1025                   80.21         434              971373  \n",
       "5                 750                   80.24         350              138015  "
      ]
     },
     "execution_count": 8,
     "metadata": {},
     "output_type": "execute_result"
    }
   ],
   "source": [
    "texts = {\"Text\": [\"Alice's Adventures in Wonderland\", \"Frankenstein\", \"The Great Gatsby\", \"Pride and Prejudice\", \"Shakespearean Cannon\", \"A Tale of Two Cities\"],\n",
    "        \"Hundred Comprisal %\":    [61.04, 55.33, 53.87, 59.80, 52.62, 55.64],\n",
    "        \"Hundred Overall %\":      [3.92,  1.43,  1.67,  1.60,  0.39,  1.03],\n",
    "        \"~80% Comprehension\":     [350,   900,   725,   525,   1025,   750],\n",
    "        \"Actual Comprehension %\": [80.29, 80.13, 80.19, 80.54, 80.21, 80.24],\n",
    "        \"Vocab List\":             [101,   542,   335,   221,   434,   350],\n",
    "        \"Overall Word Count\":     [27675, 75265, 49921, 122757, 971373, 138015] }\n",
    "#print(texts)\n",
    "df = pd.DataFrame(texts)\n",
    "df"
   ]
  },
  {
   "cell_type": "code",
   "execution_count": 9,
   "metadata": {},
   "outputs": [
    {
     "data": {
      "text/html": [
       "<div>\n",
       "<style scoped>\n",
       "    .dataframe tbody tr th:only-of-type {\n",
       "        vertical-align: middle;\n",
       "    }\n",
       "\n",
       "    .dataframe tbody tr th {\n",
       "        vertical-align: top;\n",
       "    }\n",
       "\n",
       "    .dataframe thead th {\n",
       "        text-align: right;\n",
       "    }\n",
       "</style>\n",
       "<table border=\"1\" class=\"dataframe\">\n",
       "  <thead>\n",
       "    <tr style=\"text-align: right;\">\n",
       "      <th></th>\n",
       "      <th>Hundred Comprisal %</th>\n",
       "      <th>Hundred Overall %</th>\n",
       "      <th>~80% Comprehension</th>\n",
       "      <th>Actual Comprehension %</th>\n",
       "      <th>Vocab List</th>\n",
       "      <th>Overall Word Count</th>\n",
       "    </tr>\n",
       "  </thead>\n",
       "  <tbody>\n",
       "    <tr>\n",
       "      <th>count</th>\n",
       "      <td>6.000000</td>\n",
       "      <td>6.000000</td>\n",
       "      <td>6.000000</td>\n",
       "      <td>6.000000</td>\n",
       "      <td>6.00000</td>\n",
       "      <td>6.000000</td>\n",
       "    </tr>\n",
       "    <tr>\n",
       "      <th>mean</th>\n",
       "      <td>56.383333</td>\n",
       "      <td>1.673333</td>\n",
       "      <td>712.500000</td>\n",
       "      <td>80.266667</td>\n",
       "      <td>330.50000</td>\n",
       "      <td>230834.333333</td>\n",
       "    </tr>\n",
       "    <tr>\n",
       "      <th>std</th>\n",
       "      <td>3.331658</td>\n",
       "      <td>1.197742</td>\n",
       "      <td>245.331409</td>\n",
       "      <td>0.144037</td>\n",
       "      <td>155.24529</td>\n",
       "      <td>365211.944444</td>\n",
       "    </tr>\n",
       "    <tr>\n",
       "      <th>min</th>\n",
       "      <td>52.620000</td>\n",
       "      <td>0.390000</td>\n",
       "      <td>350.000000</td>\n",
       "      <td>80.130000</td>\n",
       "      <td>101.00000</td>\n",
       "      <td>27675.000000</td>\n",
       "    </tr>\n",
       "    <tr>\n",
       "      <th>25%</th>\n",
       "      <td>54.235000</td>\n",
       "      <td>1.130000</td>\n",
       "      <td>575.000000</td>\n",
       "      <td>80.195000</td>\n",
       "      <td>249.50000</td>\n",
       "      <td>56257.000000</td>\n",
       "    </tr>\n",
       "    <tr>\n",
       "      <th>50%</th>\n",
       "      <td>55.485000</td>\n",
       "      <td>1.515000</td>\n",
       "      <td>737.500000</td>\n",
       "      <td>80.225000</td>\n",
       "      <td>342.50000</td>\n",
       "      <td>99011.000000</td>\n",
       "    </tr>\n",
       "    <tr>\n",
       "      <th>75%</th>\n",
       "      <td>58.760000</td>\n",
       "      <td>1.652500</td>\n",
       "      <td>862.500000</td>\n",
       "      <td>80.277500</td>\n",
       "      <td>413.00000</td>\n",
       "      <td>134200.500000</td>\n",
       "    </tr>\n",
       "    <tr>\n",
       "      <th>max</th>\n",
       "      <td>61.040000</td>\n",
       "      <td>3.920000</td>\n",
       "      <td>1025.000000</td>\n",
       "      <td>80.540000</td>\n",
       "      <td>542.00000</td>\n",
       "      <td>971373.000000</td>\n",
       "    </tr>\n",
       "  </tbody>\n",
       "</table>\n",
       "</div>"
      ],
      "text/plain": [
       "       Hundred Comprisal %  Hundred Overall %  ~80% Comprehension  \\\n",
       "count             6.000000           6.000000            6.000000   \n",
       "mean             56.383333           1.673333          712.500000   \n",
       "std               3.331658           1.197742          245.331409   \n",
       "min              52.620000           0.390000          350.000000   \n",
       "25%              54.235000           1.130000          575.000000   \n",
       "50%              55.485000           1.515000          737.500000   \n",
       "75%              58.760000           1.652500          862.500000   \n",
       "max              61.040000           3.920000         1025.000000   \n",
       "\n",
       "       Actual Comprehension %  Vocab List  Overall Word Count  \n",
       "count                6.000000     6.00000            6.000000  \n",
       "mean                80.266667   330.50000       230834.333333  \n",
       "std                  0.144037   155.24529       365211.944444  \n",
       "min                 80.130000   101.00000        27675.000000  \n",
       "25%                 80.195000   249.50000        56257.000000  \n",
       "50%                 80.225000   342.50000        99011.000000  \n",
       "75%                 80.277500   413.00000       134200.500000  \n",
       "max                 80.540000   542.00000       971373.000000  "
      ]
     },
     "execution_count": 9,
     "metadata": {},
     "output_type": "execute_result"
    }
   ],
   "source": [
    "df.describe()"
   ]
  },
  {
   "cell_type": "markdown",
   "metadata": {},
   "source": [
    "## Vocab list data in graphs"
   ]
  },
  {
   "cell_type": "code",
   "execution_count": 16,
   "metadata": {},
   "outputs": [
    {
     "data": {
      "image/png": "[encoded data removed]",
      "text/plain": [
       "<Figure size 864x432 with 1 Axes>"
      ]
     },
     "metadata": {},
     "output_type": "display_data"
    },
    {
     "name": "stdout",
     "output_type": "stream",
     "text": [
      "There is a relatively even amount of words in the texts, but with the Shakespearean Cannon proving a major outlier.\n"
     ]
    }
   ],
   "source": [
    "plt.figure(figsize=(12,6))\n",
    "\n",
    "plt.title(\"Total Word Count (in millions)\")\n",
    "sns.set_style(\"darkgrid\")\n",
    "sns.barplot(x=df['Overall Word Count'], y=df['Text'])\n",
    "#plt.tick_params(top=False, bottom=True, left=False, right=False, labelleft=True, labelbottom=True)\n",
    "plt.show()\n",
    "print(\"There is a relatively even amount of words in the texts, but with the Shakespearean Cannon proving a major outlier.\")"
   ]
  },
  {
   "cell_type": "code",
   "execution_count": 18,
   "metadata": {},
   "outputs": [
    {
     "data": {
      "text/plain": [
       "<Figure size 864x432 with 0 Axes>"
      ]
     },
     "metadata": {},
     "output_type": "display_data"
    },
    {
     "data": {
      "image/png": "[encoded data removed]",
      "text/plain": [
       "<Figure size 576x396 with 1 Axes>"
      ]
     },
     "metadata": {},
     "output_type": "display_data"
    },
    {
     "name": "stdout",
     "output_type": "stream",
     "text": [
      "Learning the most used 100 words means knowing over half of all words within each texts.\n"
     ]
    }
   ],
   "source": [
    "plt.figure(figsize=(12,6))\n",
    "plt.style.use('seaborn-notebook')\n",
    "hundred = df.copy()\n",
    "hundred.drop([\"~80% Comprehension\", \"Actual Comprehension %\", \"Vocab List\", \"Overall Word Count\"], axis=1, inplace=True)#.setindex(\"Text\")\n",
    "hundred.set_index(\"Text\", inplace=True)\n",
    "hundred.plot.barh()\n",
    "plt.title('Top 100 Words')\n",
    "plt.gca().invert_yaxis()\n",
    "# plt.tick_params(top=False, bottom=False, left=False, right=False, labelleft=True, labelbottom=True)\n",
    "# for spine in plt.gca().spines.values():\n",
    "#     spine.set_visible(False)    \n",
    "plt.xticks(np.arange(0, 110, 10))\n",
    "plt.show()\n",
    "print(\"Learning the most used 100 words means knowing over half of all words within each texts.\")"
   ]
  },
  {
   "cell_type": "code",
   "execution_count": 20,
   "metadata": {},
   "outputs": [
    {
     "data": {
      "text/plain": [
       "<Figure size 576x396 with 0 Axes>"
      ]
     },
     "metadata": {},
     "output_type": "display_data"
    },
    {
     "data": {
      "image/png": "[encoded data removed]",
      "text/plain": [
       "<Figure size 576x396 with 1 Axes>"
      ]
     },
     "metadata": {},
     "output_type": "display_data"
    },
    {
     "name": "stdout",
     "output_type": "stream",
     "text": [
      "Although the n-gram overlap had a bigger impact on some texts than others, all vocab lists decreased thanks it.\n",
      "This graph disproved a major hypothesis of mine going into this analysis: older texts don't differ more from the n-gram words than more modern texts.\n"
     ]
    }
   ],
   "source": [
    "plt.figure()\n",
    "plt.style.use('seaborn-notebook')\n",
    "eighty = df.copy()\n",
    "eighty.drop([\"Hundred Comprisal %\", \"Hundred Overall %\", \"Overall Word Count\", \"Actual Comprehension %\"], axis=1, inplace=True)#.setindex(\"Text\")\n",
    "eighty.set_index(\"Text\", inplace=True)\n",
    "eighty.plot.barh()\n",
    "plt.title('Words Needed for ~80% Comprehension')\n",
    "plt.gca().invert_yaxis()\n",
    "plt.tick_params(top=False, bottom=False, left=False, right=False, labelleft=True, labelbottom=True)\n",
    "for spine in plt.gca().spines.values():\n",
    "    spine.set_visible(False)\n",
    "plt.show()\n",
    "print(\"Although the n-gram overlap had a bigger impact on some texts than others, all vocab lists decreased thanks it.\")\n",
    "print(\"This graph disproved a major hypothesis of mine going into this analysis: older texts don't differ more from the n-gram words than more modern texts.\")"
   ]
  },
  {
   "cell_type": "markdown",
   "metadata": {},
   "source": [
    "## Future considerations:\n",
    " - How would a base vocab list other than Natural Language Corpus Data n-gram change the number of vocab words per book?\n",
    " - How easily would this data pipeline transfer to languages other than English?"
   ]
  }
 ],
 "metadata": {
  "kernelspec": {
   "display_name": "Python 3",
   "language": "python",
   "name": "python3"
  },
  "language_info": {
   "codemirror_mode": {
    "name": "ipython",
    "version": 3
   },
   "file_extension": ".py",
   "mimetype": "text/x-python",
   "name": "python",
   "nbconvert_exporter": "python",
   "pygments_lexer": "ipython3",
   "version": "3.8.5"
  }
 },
 "nbformat": 4,
 "nbformat_minor": 4
}
