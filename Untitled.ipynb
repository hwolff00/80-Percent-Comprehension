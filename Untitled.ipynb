{
 "cells": [
  {
   "cell_type": "code",
   "execution_count": 14,
   "metadata": {},
   "outputs": [
    {
     "name": "stdout",
     "output_type": "stream",
     "text": [
      "1124\n"
     ]
    }
   ],
   "source": [
    "import pandas as pd\n",
    "import numpy as np\n",
    "\n",
    "df = pd.read_csv(\"Yellow_filtered.csv\", names=[\"Word\", \"Count\"])\n",
    "top = df.sort_values(\"Count\", ascending=False).reset_index(drop=True)\n",
    "#top.drop(index=[23], inplace=True)\n",
    "top.head()"
   ]
  },
  {
   "cell_type": "code",
   "execution_count": 2,
   "metadata": {},
   "outputs": [
    {
     "data": {
      "text/html": [
       "<div>\n",
       "<style scoped>\n",
       "    .dataframe tbody tr th:only-of-type {\n",
       "        vertical-align: middle;\n",
       "    }\n",
       "\n",
       "    .dataframe tbody tr th {\n",
       "        vertical-align: top;\n",
       "    }\n",
       "\n",
       "    .dataframe thead th {\n",
       "        text-align: right;\n",
       "    }\n",
       "</style>\n",
       "<table border=\"1\" class=\"dataframe\">\n",
       "  <thead>\n",
       "    <tr style=\"text-align: right;\">\n",
       "      <th></th>\n",
       "      <th>Word</th>\n",
       "      <th>Count</th>\n",
       "    </tr>\n",
       "  </thead>\n",
       "  <tbody>\n",
       "    <tr>\n",
       "      <th>0</th>\n",
       "      <td>I</td>\n",
       "      <td>319</td>\n",
       "    </tr>\n",
       "    <tr>\n",
       "      <th>1</th>\n",
       "      <td>And</td>\n",
       "      <td>288</td>\n",
       "    </tr>\n",
       "    <tr>\n",
       "      <th>2</th>\n",
       "      <td>The</td>\n",
       "      <td>240</td>\n",
       "    </tr>\n",
       "    <tr>\n",
       "      <th>3</th>\n",
       "      <td>It</td>\n",
       "      <td>173</td>\n",
       "    </tr>\n",
       "    <tr>\n",
       "      <th>4</th>\n",
       "      <td>To</td>\n",
       "      <td>146</td>\n",
       "    </tr>\n",
       "  </tbody>\n",
       "</table>\n",
       "</div>"
      ],
      "text/plain": [
       "  Word  Count\n",
       "0    I    319\n",
       "1  And    288\n",
       "2  The    240\n",
       "3   It    173\n",
       "4   To    146"
      ]
     },
     "execution_count": 2,
     "metadata": {},
     "output_type": "execute_result"
    }
   ],
   "source": [
    "df_unfiltered = pd.read_csv(\"Yellow.csv\", names= [\"Word\", \"Count\"])\n",
    "top_unfiltered = df_unfiltered.sort_values(\"Count\", ascending=False).reset_index(drop=True)\n",
    "top_unfiltered.head()"
   ]
  },
  {
   "cell_type": "code",
   "execution_count": 3,
   "metadata": {},
   "outputs": [
    {
     "name": "stdout",
     "output_type": "stream",
     "text": [
      "65.86%\n"
     ]
    }
   ],
   "source": [
    "one_hundred = top_unfiltered[:100]\n",
    "hundred_total = one_hundred[\"Count\"].sum()/ df[\"Count\"].sum()\n",
    "print(f'{str(hundred_total * 100)[:5]}%')"
   ]
  },
  {
   "cell_type": "code",
   "execution_count": 5,
   "metadata": {},
   "outputs": [
    {
     "name": "stdout",
     "output_type": "stream",
     "text": [
      "81.62%\n"
     ]
    },
    {
     "data": {
      "text/html": [
       "<div>\n",
       "<style scoped>\n",
       "    .dataframe tbody tr th:only-of-type {\n",
       "        vertical-align: middle;\n",
       "    }\n",
       "\n",
       "    .dataframe tbody tr th {\n",
       "        vertical-align: top;\n",
       "    }\n",
       "\n",
       "    .dataframe thead th {\n",
       "        text-align: right;\n",
       "    }\n",
       "</style>\n",
       "<table border=\"1\" class=\"dataframe\">\n",
       "  <thead>\n",
       "    <tr style=\"text-align: right;\">\n",
       "      <th></th>\n",
       "      <th>Word</th>\n",
       "      <th>Count</th>\n",
       "    </tr>\n",
       "  </thead>\n",
       "  <tbody>\n",
       "    <tr>\n",
       "      <th>245</th>\n",
       "      <td>High</td>\n",
       "      <td>4</td>\n",
       "    </tr>\n",
       "    <tr>\n",
       "      <th>246</th>\n",
       "      <td>Sick</td>\n",
       "      <td>4</td>\n",
       "    </tr>\n",
       "    <tr>\n",
       "      <th>247</th>\n",
       "      <td>Faster</td>\n",
       "      <td>4</td>\n",
       "    </tr>\n",
       "    <tr>\n",
       "      <th>248</th>\n",
       "      <td>Writing</td>\n",
       "      <td>4</td>\n",
       "    </tr>\n",
       "    <tr>\n",
       "      <th>249</th>\n",
       "      <td>Trying</td>\n",
       "      <td>4</td>\n",
       "    </tr>\n",
       "  </tbody>\n",
       "</table>\n",
       "</div>"
      ],
      "text/plain": [
       "        Word  Count\n",
       "245     High      4\n",
       "246     Sick      4\n",
       "247   Faster      4\n",
       "248  Writing      4\n",
       "249   Trying      4"
      ]
     },
     "execution_count": 5,
     "metadata": {},
     "output_type": "execute_result"
    }
   ],
   "source": [
    "eighty = top_unfiltered[:250]\n",
    "eighty_total = eighty[\"Count\"].sum()/ df[\"Count\"].sum()\n",
    "print(f'{str(eighty_total * 100)[:5]}%')\n",
    "eighty.tail()"
   ]
  },
  {
   "cell_type": "code",
   "execution_count": 6,
   "metadata": {},
   "outputs": [
    {
     "data": {
      "text/html": [
       "<div>\n",
       "<style scoped>\n",
       "    .dataframe tbody tr th:only-of-type {\n",
       "        vertical-align: middle;\n",
       "    }\n",
       "\n",
       "    .dataframe tbody tr th {\n",
       "        vertical-align: top;\n",
       "    }\n",
       "\n",
       "    .dataframe thead th {\n",
       "        text-align: right;\n",
       "    }\n",
       "</style>\n",
       "<table border=\"1\" class=\"dataframe\">\n",
       "  <thead>\n",
       "    <tr style=\"text-align: right;\">\n",
       "      <th></th>\n",
       "      <th>Word</th>\n",
       "      <th>Count</th>\n",
       "    </tr>\n",
       "  </thead>\n",
       "  <tbody>\n",
       "    <tr>\n",
       "      <th>227</th>\n",
       "      <td>Trying</td>\n",
       "      <td>4</td>\n",
       "    </tr>\n",
       "  </tbody>\n",
       "</table>\n",
       "</div>"
      ],
      "text/plain": [
       "       Word  Count\n",
       "227  Trying      4"
      ]
     },
     "execution_count": 6,
     "metadata": {},
     "output_type": "execute_result"
    }
   ],
   "source": [
    "top.loc[top['Word']=='Trying']"
   ]
  },
  {
   "cell_type": "code",
   "execution_count": 7,
   "metadata": {},
   "outputs": [
    {
     "name": "stdout",
     "output_type": "stream",
     "text": [
      "['I' 'And' 'The' 'It' 'To' 'A' 'Is' 'That' 'Of' 'In' 'Me' 'So' 'He' 'For'\n",
      " 'As' 'But' 'Not' 'All' 'My' 'Was' 'You' 'Have' 'At' 'She' 'One' 'Would'\n",
      " 'Be' 'Can' 'Said' 'Down' 'On' 'There' 'With' 'If' 'Don' 'Out' 'Are'\n",
      " 'Thing' 'Get' 'When' 'About' 'Pattern' 'See' 'Room' 'This' 'Paper' 'Had'\n",
      " 'Am' 'Her' 'By' 'Very' 'Like' 'Little' 'Know' 'Just' 'Now' 'Him' 'Off'\n",
      " 'Here' 'Window' 'Think' 'Do' 'Say' 'Much' 'Then' 'Good' 'Did' 'We' 'Go'\n",
      " 'Well' 'What' 'Take' 'They' 'More' 'Over' 'Night' 'Or' 'Only' 'Up'\n",
      " 'Really' 'Will' 'No' 'Time' 'Could' 'Too' 'Alway' 'Course' 'Make'\n",
      " 'Wallpaper' 'Long' 'Want' 'Enough' 'Used' 'Great' 'Such' 'Away' 'Let'\n",
      " 'Feel' 'Dear' 'Doe' 'Than' 'Day' 'House' 'Creep' 'Sleep' 'Even' 'Must'\n",
      " 'Before' 'Look' 'Try' 'Myself' 'Never' 'Any' 'Fancy' 'His' 'An' 'Those'\n",
      " 'Come' 'Creeping' 'Around' 'Why' 'Behind' 'Something' 'Better' 'Under'\n",
      " 'Way' 'Wonder' 'Them' 'Bed' 'Head' 'Alone' 'Find' 'From' 'Has' 'Sometime'\n",
      " 'Nervous' 'Woman' 'Getting' 'Most' 'Place' 'Quite' 'Believe' 'Yellow'\n",
      " 'Same' 'Got' 'Other' 'Wall' 'Eye' 'Should' 'First' 'Door' 'Lie' 'Tired'\n",
      " 'Bit' 'Quiet' 'Bad' 'Nothing' 'Ever' 'Hour' 'Your' 'Turn' 'Back' 'Front'\n",
      " 'Sun' 'Case' 'Where' 'How' 'Round' 'Talk' 'Children' 'Been' 'Mind' 'Week'\n",
      " 'Another' 'Into' 'Shall' 'People' 'Keep' 'Moonlight' 'Found' 'Through'\n",
      " 'Smell' 'Saw' 'Able' 'Garden' 'After' 'Some' 'Daylight' 'Wish' 'Every'\n",
      " 'Nursery' 'Ve' 'Came' 'Two' 'Looked' 'Were' 'Angry' 'Thought' 'Seem'\n",
      " 'Change' 'Three' 'Air' 'Shake' 'Watch' 'Tell' 'Outside' 'Deal' 'Road'\n",
      " 'Work' 'Again' 'Spite' 'Write' 'Reach' 'Until' 'Our' 'Old' 'Shaded'\n",
      " 'Follow' 'Downstair' 'Laugh' 'Daytime' 'Leave' 'Lovely' 'Worse' 'Sure'\n",
      " 'Fast' 'Last']\n"
     ]
    }
   ],
   "source": [
    "vocab = top[:227]\n",
    "print(vocab[\"Word\"].unique())"
   ]
  },
  {
   "cell_type": "code",
   "execution_count": 12,
   "metadata": {},
   "outputs": [
    {
     "name": "stdout",
     "output_type": "stream",
     "text": [
      "['Don', 'Pattern', 'Alway', 'Wallpaper', 'Dear', 'Doe', 'Creep', 'Sleep', 'Myself', 'Fancy', 'Creeping', 'Behind', 'Wonder', 'Bed', 'Alone', 'Sometime', 'Nervous', 'Woman', 'Quite', 'Believe', 'Wall', 'Eye', 'Door', 'Lie', 'Tired', 'Quiet', 'Nothing', 'Hour', 'Round', 'Mind', 'Moonlight', 'Smell', 'Saw', 'Daylight', 'Wish', 'Nursery', 'Ve', 'Came', 'Looked', 'Angry', 'Seem', 'Shake', 'Outside', 'Deal', 'Spite', 'Reach', 'Shaded', 'Follow', 'Downstair', 'Laugh', 'Daytime', 'Leave', 'Lovely', 'Worse']\n"
     ]
    }
   ],
   "source": [
    "n_gram = pd.read_csv('edited_n_gram.csv', names = [\"drop\", \"Word\", \"Count\"])\n",
    "n_gram.drop([\"drop\"], axis=1, inplace=True)\n",
    "n_gram.drop(index=[0], inplace=True)\n",
    "y = vocab.assign(vocab_in=vocab.Word.isin(n_gram.Word).astype(int))\n",
    "t = y[y[\"vocab_in\"] == 0]\n",
    "t = list(t[\"Word\"].unique())\n",
    "print(t)"
   ]
  },
  {
   "cell_type": "code",
   "execution_count": 13,
   "metadata": {},
   "outputs": [
    {
     "name": "stdout",
     "output_type": "stream",
     "text": [
      "54\n"
     ]
    }
   ],
   "source": [
    "print(len(t))"
   ]
  },
  {
   "cell_type": "code",
   "execution_count": 15,
   "metadata": {},
   "outputs": [
    {
     "name": "stdout",
     "output_type": "stream",
     "text": [
      "Overall word count of book: 5955\n"
     ]
    }
   ],
   "source": [
    "print(f'Overall word count of book: {df[\"Count\"].sum()}')"
   ]
  },
  {
   "cell_type": "code",
   "execution_count": null,
   "metadata": {},
   "outputs": [],
   "source": []
  }
 ],
 "metadata": {
  "kernelspec": {
   "display_name": "Python 3",
   "language": "python",
   "name": "python3"
  },
  "language_info": {
   "codemirror_mode": {
    "name": "ipython",
    "version": 3
   },
   "file_extension": ".py",
   "mimetype": "text/x-python",
   "name": "python",
   "nbconvert_exporter": "python",
   "pygments_lexer": "ipython3",
   "version": "3.7.6"
  }
 },
 "nbformat": 4,
 "nbformat_minor": 4
}
